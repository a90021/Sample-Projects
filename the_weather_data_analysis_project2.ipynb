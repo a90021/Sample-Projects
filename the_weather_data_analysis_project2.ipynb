{
 "cells": [
  {
   "cell_type": "markdown",
   "metadata": {},
   "source": [
    "# The Weather Data Analysis"
   ]
  },
  {
   "cell_type": "markdown",
   "metadata": {},
   "source": [
    "Here weather dataset is a Time series dataset with per-hour information about the weather \n",
    "conditions at a perticular location it records Temperature. Dew point Temperature. \n",
    "Relative humidity. Wind speed. Visible pressure. and Conditions.\n",
    "This data is available as csv file that we are going to analyze this dataset using pandas DataFrame."
   ]
  },
  {
   "cell_type": "code",
   "execution_count": 1,
   "metadata": {},
   "outputs": [],
   "source": [
    "import pandas as pd"
   ]
  },
  {
   "cell_type": "code",
   "execution_count": 2,
   "metadata": {},
   "outputs": [],
   "source": [
    "data = pd.read_csv('1. Weather Data.csv')"
   ]
  },
  {
   "cell_type": "code",
   "execution_count": 3,
   "metadata": {},
   "outputs": [],
   "source": [
    "df = pd.DataFrame(data)"
   ]
  },
  {
   "cell_type": "code",
   "execution_count": 4,
   "metadata": {},
   "outputs": [
    {
     "name": "stdout",
     "output_type": "stream",
     "text": [
      "<class 'pandas.core.frame.DataFrame'>\n",
      "RangeIndex: 8784 entries, 0 to 8783\n",
      "Data columns (total 8 columns):\n",
      "Date/Time           8784 non-null object\n",
      "Temp_C              8784 non-null float64\n",
      "Dew Point Temp_C    8784 non-null float64\n",
      "Rel Hum_%           8784 non-null int64\n",
      "Wind Speed_km/h     8784 non-null int64\n",
      "Visibility_km       8784 non-null float64\n",
      "Press_kPa           8784 non-null float64\n",
      "Weather             8784 non-null object\n",
      "dtypes: float64(4), int64(2), object(2)\n",
      "memory usage: 549.1+ KB\n"
     ]
    }
   ],
   "source": [
    "df.info()"
   ]
  },
  {
   "cell_type": "code",
   "execution_count": 5,
   "metadata": {},
   "outputs": [
    {
     "data": {
      "text/plain": [
       "Date/Time           0\n",
       "Temp_C              0\n",
       "Dew Point Temp_C    0\n",
       "Rel Hum_%           0\n",
       "Wind Speed_km/h     0\n",
       "Visibility_km       0\n",
       "Press_kPa           0\n",
       "Weather             0\n",
       "dtype: int64"
      ]
     },
     "execution_count": 5,
     "metadata": {},
     "output_type": "execute_result"
    }
   ],
   "source": [
    "df.isnull().sum() #to check null values"
   ]
  },
  {
   "cell_type": "code",
   "execution_count": 6,
   "metadata": {},
   "outputs": [
    {
     "data": {
      "text/html": [
       "<div>\n",
       "<style scoped>\n",
       "    .dataframe tbody tr th:only-of-type {\n",
       "        vertical-align: middle;\n",
       "    }\n",
       "\n",
       "    .dataframe tbody tr th {\n",
       "        vertical-align: top;\n",
       "    }\n",
       "\n",
       "    .dataframe thead th {\n",
       "        text-align: right;\n",
       "    }\n",
       "</style>\n",
       "<table border=\"1\" class=\"dataframe\">\n",
       "  <thead>\n",
       "    <tr style=\"text-align: right;\">\n",
       "      <th></th>\n",
       "      <th>Date/Time</th>\n",
       "      <th>Temp_C</th>\n",
       "      <th>Dew Point Temp_C</th>\n",
       "      <th>Rel Hum_%</th>\n",
       "      <th>Wind Speed_km/h</th>\n",
       "      <th>Visibility_km</th>\n",
       "      <th>Press_kPa</th>\n",
       "      <th>Weather</th>\n",
       "    </tr>\n",
       "  </thead>\n",
       "  <tbody>\n",
       "    <tr>\n",
       "      <td>0</td>\n",
       "      <td>1/1/2012 0:00</td>\n",
       "      <td>-1.8</td>\n",
       "      <td>-3.9</td>\n",
       "      <td>86</td>\n",
       "      <td>4</td>\n",
       "      <td>8.0</td>\n",
       "      <td>101.24</td>\n",
       "      <td>Fog</td>\n",
       "    </tr>\n",
       "    <tr>\n",
       "      <td>1</td>\n",
       "      <td>1/1/2012 1:00</td>\n",
       "      <td>-1.8</td>\n",
       "      <td>-3.7</td>\n",
       "      <td>87</td>\n",
       "      <td>4</td>\n",
       "      <td>8.0</td>\n",
       "      <td>101.24</td>\n",
       "      <td>Fog</td>\n",
       "    </tr>\n",
       "    <tr>\n",
       "      <td>2</td>\n",
       "      <td>1/1/2012 2:00</td>\n",
       "      <td>-1.8</td>\n",
       "      <td>-3.4</td>\n",
       "      <td>89</td>\n",
       "      <td>7</td>\n",
       "      <td>4.0</td>\n",
       "      <td>101.26</td>\n",
       "      <td>Freezing Drizzle,Fog</td>\n",
       "    </tr>\n",
       "    <tr>\n",
       "      <td>3</td>\n",
       "      <td>1/1/2012 3:00</td>\n",
       "      <td>-1.5</td>\n",
       "      <td>-3.2</td>\n",
       "      <td>88</td>\n",
       "      <td>6</td>\n",
       "      <td>4.0</td>\n",
       "      <td>101.27</td>\n",
       "      <td>Freezing Drizzle,Fog</td>\n",
       "    </tr>\n",
       "    <tr>\n",
       "      <td>4</td>\n",
       "      <td>1/1/2012 4:00</td>\n",
       "      <td>-1.5</td>\n",
       "      <td>-3.3</td>\n",
       "      <td>88</td>\n",
       "      <td>7</td>\n",
       "      <td>4.8</td>\n",
       "      <td>101.23</td>\n",
       "      <td>Fog</td>\n",
       "    </tr>\n",
       "  </tbody>\n",
       "</table>\n",
       "</div>"
      ],
      "text/plain": [
       "       Date/Time  Temp_C  Dew Point Temp_C  Rel Hum_%  Wind Speed_km/h  \\\n",
       "0  1/1/2012 0:00    -1.8              -3.9         86                4   \n",
       "1  1/1/2012 1:00    -1.8              -3.7         87                4   \n",
       "2  1/1/2012 2:00    -1.8              -3.4         89                7   \n",
       "3  1/1/2012 3:00    -1.5              -3.2         88                6   \n",
       "4  1/1/2012 4:00    -1.5              -3.3         88                7   \n",
       "\n",
       "   Visibility_km  Press_kPa               Weather  \n",
       "0            8.0     101.24                   Fog  \n",
       "1            8.0     101.24                   Fog  \n",
       "2            4.0     101.26  Freezing Drizzle,Fog  \n",
       "3            4.0     101.27  Freezing Drizzle,Fog  \n",
       "4            4.8     101.23                   Fog  "
      ]
     },
     "execution_count": 6,
     "metadata": {},
     "output_type": "execute_result"
    }
   ],
   "source": [
    "df.head() #top 5 rows of data"
   ]
  },
  {
   "cell_type": "code",
   "execution_count": 7,
   "metadata": {},
   "outputs": [
    {
     "data": {
      "text/plain": [
       "(8784, 8)"
      ]
     },
     "execution_count": 7,
     "metadata": {},
     "output_type": "execute_result"
    }
   ],
   "source": [
    "df.shape #no of rows and columns"
   ]
  },
  {
   "cell_type": "code",
   "execution_count": 8,
   "metadata": {},
   "outputs": [
    {
     "data": {
      "text/plain": [
       "RangeIndex(start=0, stop=8784, step=1)"
      ]
     },
     "execution_count": 8,
     "metadata": {},
     "output_type": "execute_result"
    }
   ],
   "source": [
    "df.index"
   ]
  },
  {
   "cell_type": "code",
   "execution_count": 9,
   "metadata": {},
   "outputs": [
    {
     "data": {
      "text/plain": [
       "Index(['Date/Time', 'Temp_C', 'Dew Point Temp_C', 'Rel Hum_%',\n",
       "       'Wind Speed_km/h', 'Visibility_km', 'Press_kPa', 'Weather'],\n",
       "      dtype='object')"
      ]
     },
     "execution_count": 9,
     "metadata": {},
     "output_type": "execute_result"
    }
   ],
   "source": [
    "df.columns"
   ]
  },
  {
   "cell_type": "code",
   "execution_count": 10,
   "metadata": {},
   "outputs": [
    {
     "data": {
      "text/plain": [
       "Date/Time            object\n",
       "Temp_C              float64\n",
       "Dew Point Temp_C    float64\n",
       "Rel Hum_%             int64\n",
       "Wind Speed_km/h       int64\n",
       "Visibility_km       float64\n",
       "Press_kPa           float64\n",
       "Weather              object\n",
       "dtype: object"
      ]
     },
     "execution_count": 10,
     "metadata": {},
     "output_type": "execute_result"
    }
   ],
   "source": [
    "df.dtypes  #Data type for each column"
   ]
  },
  {
   "cell_type": "code",
   "execution_count": 11,
   "metadata": {},
   "outputs": [
    {
     "data": {
      "text/plain": [
       "array(['Fog', 'Freezing Drizzle,Fog', 'Mostly Cloudy', 'Cloudy', 'Rain',\n",
       "       'Rain Showers', 'Mainly Clear', 'Snow Showers', 'Snow', 'Clear',\n",
       "       'Freezing Rain,Fog', 'Freezing Rain', 'Freezing Drizzle',\n",
       "       'Rain,Snow', 'Moderate Snow', 'Freezing Drizzle,Snow',\n",
       "       'Freezing Rain,Snow Grains', 'Snow,Blowing Snow', 'Freezing Fog',\n",
       "       'Haze', 'Rain,Fog', 'Drizzle,Fog', 'Drizzle',\n",
       "       'Freezing Drizzle,Haze', 'Freezing Rain,Haze', 'Snow,Haze',\n",
       "       'Snow,Fog', 'Snow,Ice Pellets', 'Rain,Haze', 'Thunderstorms,Rain',\n",
       "       'Thunderstorms,Rain Showers', 'Thunderstorms,Heavy Rain Showers',\n",
       "       'Thunderstorms,Rain Showers,Fog', 'Thunderstorms',\n",
       "       'Thunderstorms,Rain,Fog',\n",
       "       'Thunderstorms,Moderate Rain Showers,Fog', 'Rain Showers,Fog',\n",
       "       'Rain Showers,Snow Showers', 'Snow Pellets', 'Rain,Snow,Fog',\n",
       "       'Moderate Rain,Fog', 'Freezing Rain,Ice Pellets,Fog',\n",
       "       'Drizzle,Ice Pellets,Fog', 'Drizzle,Snow', 'Rain,Ice Pellets',\n",
       "       'Drizzle,Snow,Fog', 'Rain,Snow Grains', 'Rain,Snow,Ice Pellets',\n",
       "       'Snow Showers,Fog', 'Moderate Snow,Blowing Snow'], dtype=object)"
      ]
     },
     "execution_count": 11,
     "metadata": {},
     "output_type": "execute_result"
    }
   ],
   "source": [
    "#to check unique values in columns\n",
    "df['Weather'].unique() "
   ]
  },
  {
   "cell_type": "code",
   "execution_count": 12,
   "metadata": {},
   "outputs": [
    {
     "data": {
      "text/plain": [
       "Date/Time           8784\n",
       "Temp_C               533\n",
       "Dew Point Temp_C     489\n",
       "Rel Hum_%             83\n",
       "Wind Speed_km/h       34\n",
       "Visibility_km         24\n",
       "Press_kPa            518\n",
       "Weather               50\n",
       "dtype: int64"
      ]
     },
     "execution_count": 12,
     "metadata": {},
     "output_type": "execute_result"
    }
   ],
   "source": [
    "df.nunique() #number of unique values in data"
   ]
  },
  {
   "cell_type": "code",
   "execution_count": 13,
   "metadata": {},
   "outputs": [
    {
     "data": {
      "text/plain": [
       "Date/Time           8784\n",
       "Temp_C              8784\n",
       "Dew Point Temp_C    8784\n",
       "Rel Hum_%           8784\n",
       "Wind Speed_km/h     8784\n",
       "Visibility_km       8784\n",
       "Press_kPa           8784\n",
       "Weather             8784\n",
       "dtype: int64"
      ]
     },
     "execution_count": 13,
     "metadata": {},
     "output_type": "execute_result"
    }
   ],
   "source": [
    "df.count() #Count non-NA cells for each column or row."
   ]
  },
  {
   "cell_type": "code",
   "execution_count": 14,
   "metadata": {},
   "outputs": [
    {
     "data": {
      "text/plain": [
       "Mainly Clear                               2106\n",
       "Mostly Cloudy                              2069\n",
       "Cloudy                                     1728\n",
       "Clear                                      1326\n",
       "Snow                                        390\n",
       "Rain                                        306\n",
       "Rain Showers                                188\n",
       "Fog                                         150\n",
       "Rain,Fog                                    116\n",
       "Drizzle,Fog                                  80\n",
       "Snow Showers                                 60\n",
       "Drizzle                                      41\n",
       "Snow,Fog                                     37\n",
       "Snow,Blowing Snow                            19\n",
       "Rain,Snow                                    18\n",
       "Thunderstorms,Rain Showers                   16\n",
       "Haze                                         16\n",
       "Drizzle,Snow,Fog                             15\n",
       "Freezing Rain                                14\n",
       "Freezing Drizzle,Snow                        11\n",
       "Freezing Drizzle                              7\n",
       "Snow,Ice Pellets                              6\n",
       "Freezing Drizzle,Fog                          6\n",
       "Snow,Haze                                     5\n",
       "Moderate Snow                                 4\n",
       "Rain,Snow,Ice Pellets                         4\n",
       "Snow Showers,Fog                              4\n",
       "Freezing Rain,Fog                             4\n",
       "Freezing Fog                                  4\n",
       "Rain,Haze                                     3\n",
       "Freezing Drizzle,Haze                         3\n",
       "Thunderstorms,Rain Showers,Fog                3\n",
       "Thunderstorms,Rain                            3\n",
       "Drizzle,Snow                                  2\n",
       "Freezing Rain,Haze                            2\n",
       "Rain Showers,Snow Showers                     2\n",
       "Thunderstorms                                 2\n",
       "Moderate Snow,Blowing Snow                    2\n",
       "Moderate Rain,Fog                             1\n",
       "Thunderstorms,Moderate Rain Showers,Fog       1\n",
       "Thunderstorms,Rain,Fog                        1\n",
       "Rain Showers,Fog                              1\n",
       "Rain,Snow,Fog                                 1\n",
       "Freezing Rain,Ice Pellets,Fog                 1\n",
       "Freezing Rain,Snow Grains                     1\n",
       "Snow Pellets                                  1\n",
       "Rain,Ice Pellets                              1\n",
       "Rain,Snow Grains                              1\n",
       "Thunderstorms,Heavy Rain Showers              1\n",
       "Drizzle,Ice Pellets,Fog                       1\n",
       "Name: Weather, dtype: int64"
      ]
     },
     "execution_count": 14,
     "metadata": {},
     "output_type": "execute_result"
    }
   ],
   "source": [
    "df['Weather'].value_counts() #to check how many times the values are present"
   ]
  },
  {
   "cell_type": "code",
   "execution_count": 15,
   "metadata": {},
   "outputs": [
    {
     "name": "stdout",
     "output_type": "stream",
     "text": [
      "<class 'pandas.core.frame.DataFrame'>\n",
      "RangeIndex: 8784 entries, 0 to 8783\n",
      "Data columns (total 8 columns):\n",
      "Date/Time           8784 non-null object\n",
      "Temp_C              8784 non-null float64\n",
      "Dew Point Temp_C    8784 non-null float64\n",
      "Rel Hum_%           8784 non-null int64\n",
      "Wind Speed_km/h     8784 non-null int64\n",
      "Visibility_km       8784 non-null float64\n",
      "Press_kPa           8784 non-null float64\n",
      "Weather             8784 non-null object\n",
      "dtypes: float64(4), int64(2), object(2)\n",
      "memory usage: 549.1+ KB\n"
     ]
    }
   ],
   "source": [
    "df.info() #all data information"
   ]
  },
  {
   "cell_type": "code",
   "execution_count": 16,
   "metadata": {},
   "outputs": [
    {
     "data": {
      "text/plain": [
       "Date/Time           8784\n",
       "Temp_C               533\n",
       "Dew Point Temp_C     489\n",
       "Rel Hum_%             83\n",
       "Wind Speed_km/h       34\n",
       "Visibility_km         24\n",
       "Press_kPa            518\n",
       "Weather               50\n",
       "dtype: int64"
      ]
     },
     "execution_count": 16,
     "metadata": {},
     "output_type": "execute_result"
    }
   ],
   "source": [
    "#all the unique 'wind speed' values in the data\n",
    "df.nunique()"
   ]
  },
  {
   "cell_type": "code",
   "execution_count": 17,
   "metadata": {},
   "outputs": [
    {
     "data": {
      "text/plain": [
       "34"
      ]
     },
     "execution_count": 17,
     "metadata": {},
     "output_type": "execute_result"
    }
   ],
   "source": [
    "df['Wind Speed_km/h'].nunique() #total unique values "
   ]
  },
  {
   "cell_type": "code",
   "execution_count": 18,
   "metadata": {},
   "outputs": [
    {
     "data": {
      "text/plain": [
       "array([ 4,  7,  6,  9, 15, 13, 20, 22, 19, 24, 30, 35, 39, 32, 33, 26, 44,\n",
       "       43, 48, 37, 28, 17, 11,  0, 83, 70, 57, 46, 41, 52, 50, 63, 54,  2],\n",
       "      dtype=int64)"
      ]
     },
     "execution_count": 18,
     "metadata": {},
     "output_type": "execute_result"
    }
   ],
   "source": [
    "df['Wind Speed_km/h'].unique() # unique values"
   ]
  },
  {
   "cell_type": "code",
   "execution_count": 19,
   "metadata": {},
   "outputs": [],
   "source": [
    "#number of times when the 'weather is exactly clear'\n",
    "# method1 => df['Weather'].value_counts()\n",
    "# method2 => df[df.weather == 'Clear']\n",
    "# method3 => df.groupby('Weather').get_group('Clear')"
   ]
  },
  {
   "cell_type": "code",
   "execution_count": 28,
   "metadata": {},
   "outputs": [
    {
     "data": {
      "text/plain": [
       "Clear    1326\n",
       "Name: Weather, dtype: int64"
      ]
     },
     "execution_count": 28,
     "metadata": {},
     "output_type": "execute_result"
    }
   ],
   "source": [
    "# method4\n",
    "df[df['Weather']=='Clear']['Weather'].value_counts()"
   ]
  },
  {
   "cell_type": "code",
   "execution_count": 29,
   "metadata": {},
   "outputs": [
    {
     "data": {
      "text/plain": [
       "15    719\n",
       "Name: Wind Speed_km/h, dtype: int64"
      ]
     },
     "execution_count": 29,
     "metadata": {},
     "output_type": "execute_result"
    }
   ],
   "source": [
    "#number of times when the 'wind speed was exactly 15 km/h'\n",
    "df[df['Wind Speed_km/h']== 15]['Wind Speed_km/h'].value_counts()"
   ]
  },
  {
   "cell_type": "code",
   "execution_count": 22,
   "metadata": {},
   "outputs": [
    {
     "data": {
      "text/html": [
       "<div>\n",
       "<style scoped>\n",
       "    .dataframe tbody tr th:only-of-type {\n",
       "        vertical-align: middle;\n",
       "    }\n",
       "\n",
       "    .dataframe tbody tr th {\n",
       "        vertical-align: top;\n",
       "    }\n",
       "\n",
       "    .dataframe thead th {\n",
       "        text-align: right;\n",
       "    }\n",
       "</style>\n",
       "<table border=\"1\" class=\"dataframe\">\n",
       "  <thead>\n",
       "    <tr style=\"text-align: right;\">\n",
       "      <th></th>\n",
       "      <th>Date/Time</th>\n",
       "      <th>Temp_C</th>\n",
       "      <th>Dew Point Temp_C</th>\n",
       "      <th>Rel Hum_%</th>\n",
       "      <th>Wind Speed_km/h</th>\n",
       "      <th>Visibility_km</th>\n",
       "      <th>Press_kPa</th>\n",
       "      <th>Weather Condition</th>\n",
       "    </tr>\n",
       "  </thead>\n",
       "  <tbody>\n",
       "    <tr>\n",
       "      <td>0</td>\n",
       "      <td>1/1/2012 0:00</td>\n",
       "      <td>-1.8</td>\n",
       "      <td>-3.9</td>\n",
       "      <td>86</td>\n",
       "      <td>4</td>\n",
       "      <td>8.0</td>\n",
       "      <td>101.24</td>\n",
       "      <td>Fog</td>\n",
       "    </tr>\n",
       "    <tr>\n",
       "      <td>1</td>\n",
       "      <td>1/1/2012 1:00</td>\n",
       "      <td>-1.8</td>\n",
       "      <td>-3.7</td>\n",
       "      <td>87</td>\n",
       "      <td>4</td>\n",
       "      <td>8.0</td>\n",
       "      <td>101.24</td>\n",
       "      <td>Fog</td>\n",
       "    </tr>\n",
       "    <tr>\n",
       "      <td>2</td>\n",
       "      <td>1/1/2012 2:00</td>\n",
       "      <td>-1.8</td>\n",
       "      <td>-3.4</td>\n",
       "      <td>89</td>\n",
       "      <td>7</td>\n",
       "      <td>4.0</td>\n",
       "      <td>101.26</td>\n",
       "      <td>Freezing Drizzle,Fog</td>\n",
       "    </tr>\n",
       "    <tr>\n",
       "      <td>3</td>\n",
       "      <td>1/1/2012 3:00</td>\n",
       "      <td>-1.5</td>\n",
       "      <td>-3.2</td>\n",
       "      <td>88</td>\n",
       "      <td>6</td>\n",
       "      <td>4.0</td>\n",
       "      <td>101.27</td>\n",
       "      <td>Freezing Drizzle,Fog</td>\n",
       "    </tr>\n",
       "    <tr>\n",
       "      <td>4</td>\n",
       "      <td>1/1/2012 4:00</td>\n",
       "      <td>-1.5</td>\n",
       "      <td>-3.3</td>\n",
       "      <td>88</td>\n",
       "      <td>7</td>\n",
       "      <td>4.8</td>\n",
       "      <td>101.23</td>\n",
       "      <td>Fog</td>\n",
       "    </tr>\n",
       "    <tr>\n",
       "      <td>...</td>\n",
       "      <td>...</td>\n",
       "      <td>...</td>\n",
       "      <td>...</td>\n",
       "      <td>...</td>\n",
       "      <td>...</td>\n",
       "      <td>...</td>\n",
       "      <td>...</td>\n",
       "      <td>...</td>\n",
       "    </tr>\n",
       "    <tr>\n",
       "      <td>8779</td>\n",
       "      <td>12/31/2012 19:00</td>\n",
       "      <td>0.1</td>\n",
       "      <td>-2.7</td>\n",
       "      <td>81</td>\n",
       "      <td>30</td>\n",
       "      <td>9.7</td>\n",
       "      <td>100.13</td>\n",
       "      <td>Snow</td>\n",
       "    </tr>\n",
       "    <tr>\n",
       "      <td>8780</td>\n",
       "      <td>12/31/2012 20:00</td>\n",
       "      <td>0.2</td>\n",
       "      <td>-2.4</td>\n",
       "      <td>83</td>\n",
       "      <td>24</td>\n",
       "      <td>9.7</td>\n",
       "      <td>100.03</td>\n",
       "      <td>Snow</td>\n",
       "    </tr>\n",
       "    <tr>\n",
       "      <td>8781</td>\n",
       "      <td>12/31/2012 21:00</td>\n",
       "      <td>-0.5</td>\n",
       "      <td>-1.5</td>\n",
       "      <td>93</td>\n",
       "      <td>28</td>\n",
       "      <td>4.8</td>\n",
       "      <td>99.95</td>\n",
       "      <td>Snow</td>\n",
       "    </tr>\n",
       "    <tr>\n",
       "      <td>8782</td>\n",
       "      <td>12/31/2012 22:00</td>\n",
       "      <td>-0.2</td>\n",
       "      <td>-1.8</td>\n",
       "      <td>89</td>\n",
       "      <td>28</td>\n",
       "      <td>9.7</td>\n",
       "      <td>99.91</td>\n",
       "      <td>Snow</td>\n",
       "    </tr>\n",
       "    <tr>\n",
       "      <td>8783</td>\n",
       "      <td>12/31/2012 23:00</td>\n",
       "      <td>0.0</td>\n",
       "      <td>-2.1</td>\n",
       "      <td>86</td>\n",
       "      <td>30</td>\n",
       "      <td>11.3</td>\n",
       "      <td>99.89</td>\n",
       "      <td>Snow</td>\n",
       "    </tr>\n",
       "  </tbody>\n",
       "</table>\n",
       "<p>8784 rows × 8 columns</p>\n",
       "</div>"
      ],
      "text/plain": [
       "             Date/Time  Temp_C  Dew Point Temp_C  Rel Hum_%  Wind Speed_km/h  \\\n",
       "0        1/1/2012 0:00    -1.8              -3.9         86                4   \n",
       "1        1/1/2012 1:00    -1.8              -3.7         87                4   \n",
       "2        1/1/2012 2:00    -1.8              -3.4         89                7   \n",
       "3        1/1/2012 3:00    -1.5              -3.2         88                6   \n",
       "4        1/1/2012 4:00    -1.5              -3.3         88                7   \n",
       "...                ...     ...               ...        ...              ...   \n",
       "8779  12/31/2012 19:00     0.1              -2.7         81               30   \n",
       "8780  12/31/2012 20:00     0.2              -2.4         83               24   \n",
       "8781  12/31/2012 21:00    -0.5              -1.5         93               28   \n",
       "8782  12/31/2012 22:00    -0.2              -1.8         89               28   \n",
       "8783  12/31/2012 23:00     0.0              -2.1         86               30   \n",
       "\n",
       "      Visibility_km  Press_kPa     Weather Condition  \n",
       "0               8.0     101.24                   Fog  \n",
       "1               8.0     101.24                   Fog  \n",
       "2               4.0     101.26  Freezing Drizzle,Fog  \n",
       "3               4.0     101.27  Freezing Drizzle,Fog  \n",
       "4               4.8     101.23                   Fog  \n",
       "...             ...        ...                   ...  \n",
       "8779            9.7     100.13                  Snow  \n",
       "8780            9.7     100.03                  Snow  \n",
       "8781            4.8      99.95                  Snow  \n",
       "8782            9.7      99.91                  Snow  \n",
       "8783           11.3      99.89                  Snow  \n",
       "\n",
       "[8784 rows x 8 columns]"
      ]
     },
     "execution_count": 22,
     "metadata": {},
     "output_type": "execute_result"
    }
   ],
   "source": [
    "#changing the name of column 'weather' to 'weather condition'\n",
    "df.rename(columns={'Weather':'Weather Condition'})"
   ]
  },
  {
   "cell_type": "code",
   "execution_count": 23,
   "metadata": {},
   "outputs": [
    {
     "data": {
      "text/plain": [
       "27.66444672131151"
      ]
     },
     "execution_count": 23,
     "metadata": {},
     "output_type": "execute_result"
    }
   ],
   "source": [
    "#mean 'visibility '\n",
    "df['Visibility_km'].mean()"
   ]
  },
  {
   "cell_type": "code",
   "execution_count": 24,
   "metadata": {},
   "outputs": [
    {
     "data": {
      "text/plain": [
       "0.8440047459486474"
      ]
     },
     "execution_count": 24,
     "metadata": {},
     "output_type": "execute_result"
    }
   ],
   "source": [
    "#standard deviation of 'Pressure' column\n",
    "df['Press_kPa'].std()"
   ]
  },
  {
   "cell_type": "code",
   "execution_count": 25,
   "metadata": {},
   "outputs": [
    {
     "data": {
      "text/plain": [
       "286.2485501984998"
      ]
     },
     "execution_count": 25,
     "metadata": {},
     "output_type": "execute_result"
    }
   ],
   "source": [
    "# varianve of 'relative humidity'\n",
    "df['Rel Hum_%'].var()"
   ]
  },
  {
   "cell_type": "code",
   "execution_count": 55,
   "metadata": {},
   "outputs": [
    {
     "data": {
      "text/plain": [
       "Freezing Drizzle,Fog    6\n",
       "Name: Weather, dtype: int64"
      ]
     },
     "execution_count": 55,
     "metadata": {},
     "output_type": "execute_result"
    }
   ],
   "source": [
    "# count of all instances when 'Freezing Drizzle,Fog' was recorded\n",
    "df[df['Weather']=='Freezing Drizzle,Fog']['Weather'].value_counts()"
   ]
  },
  {
   "cell_type": "code",
   "execution_count": 64,
   "metadata": {},
   "outputs": [
    {
     "data": {
      "text/plain": [
       "346"
      ]
     },
     "execution_count": 64,
     "metadata": {},
     "output_type": "execute_result"
    }
   ],
   "source": [
    "# all instances when 'wind speed is above 24' and 'visibility is 25'\n",
    "df[(df['Wind Speed_km/h'] == 11) & (df['Visibility_km'] == 25)]['Weather'].value_counts().sum()"
   ]
  },
  {
   "cell_type": "code",
   "execution_count": 77,
   "metadata": {},
   "outputs": [
    {
     "data": {
      "text/html": [
       "<div>\n",
       "<style scoped>\n",
       "    .dataframe tbody tr th:only-of-type {\n",
       "        vertical-align: middle;\n",
       "    }\n",
       "\n",
       "    .dataframe tbody tr th {\n",
       "        vertical-align: top;\n",
       "    }\n",
       "\n",
       "    .dataframe thead th {\n",
       "        text-align: right;\n",
       "    }\n",
       "</style>\n",
       "<table border=\"1\" class=\"dataframe\">\n",
       "  <thead>\n",
       "    <tr style=\"text-align: right;\">\n",
       "      <th></th>\n",
       "      <th>Temp_C</th>\n",
       "      <th>Dew Point Temp_C</th>\n",
       "      <th>Rel Hum_%</th>\n",
       "      <th>Wind Speed_km/h</th>\n",
       "      <th>Visibility_km</th>\n",
       "      <th>Press_kPa</th>\n",
       "    </tr>\n",
       "    <tr>\n",
       "      <th>Weather</th>\n",
       "      <th></th>\n",
       "      <th></th>\n",
       "      <th></th>\n",
       "      <th></th>\n",
       "      <th></th>\n",
       "      <th></th>\n",
       "    </tr>\n",
       "  </thead>\n",
       "  <tbody>\n",
       "    <tr>\n",
       "      <td>Clear</td>\n",
       "      <td>6.825716</td>\n",
       "      <td>0.089367</td>\n",
       "      <td>64.497738</td>\n",
       "      <td>10.557315</td>\n",
       "      <td>30.153243</td>\n",
       "      <td>101.587443</td>\n",
       "    </tr>\n",
       "    <tr>\n",
       "      <td>Cloudy</td>\n",
       "      <td>7.970544</td>\n",
       "      <td>2.375810</td>\n",
       "      <td>69.592593</td>\n",
       "      <td>16.127315</td>\n",
       "      <td>26.625752</td>\n",
       "      <td>100.911441</td>\n",
       "    </tr>\n",
       "    <tr>\n",
       "      <td>Drizzle</td>\n",
       "      <td>7.353659</td>\n",
       "      <td>5.504878</td>\n",
       "      <td>88.243902</td>\n",
       "      <td>16.097561</td>\n",
       "      <td>17.931707</td>\n",
       "      <td>100.435366</td>\n",
       "    </tr>\n",
       "    <tr>\n",
       "      <td>Drizzle,Fog</td>\n",
       "      <td>8.067500</td>\n",
       "      <td>7.033750</td>\n",
       "      <td>93.275000</td>\n",
       "      <td>11.862500</td>\n",
       "      <td>5.257500</td>\n",
       "      <td>100.786625</td>\n",
       "    </tr>\n",
       "    <tr>\n",
       "      <td>Drizzle,Ice Pellets,Fog</td>\n",
       "      <td>0.400000</td>\n",
       "      <td>-0.700000</td>\n",
       "      <td>92.000000</td>\n",
       "      <td>20.000000</td>\n",
       "      <td>4.000000</td>\n",
       "      <td>100.790000</td>\n",
       "    </tr>\n",
       "    <tr>\n",
       "      <td>Drizzle,Snow</td>\n",
       "      <td>1.050000</td>\n",
       "      <td>0.150000</td>\n",
       "      <td>93.500000</td>\n",
       "      <td>14.000000</td>\n",
       "      <td>10.500000</td>\n",
       "      <td>100.890000</td>\n",
       "    </tr>\n",
       "    <tr>\n",
       "      <td>Drizzle,Snow,Fog</td>\n",
       "      <td>0.693333</td>\n",
       "      <td>0.120000</td>\n",
       "      <td>95.866667</td>\n",
       "      <td>15.533333</td>\n",
       "      <td>5.513333</td>\n",
       "      <td>99.281333</td>\n",
       "    </tr>\n",
       "    <tr>\n",
       "      <td>Fog</td>\n",
       "      <td>4.303333</td>\n",
       "      <td>3.159333</td>\n",
       "      <td>92.286667</td>\n",
       "      <td>7.946667</td>\n",
       "      <td>6.248000</td>\n",
       "      <td>101.184067</td>\n",
       "    </tr>\n",
       "    <tr>\n",
       "      <td>Freezing Drizzle</td>\n",
       "      <td>-5.657143</td>\n",
       "      <td>-8.000000</td>\n",
       "      <td>83.571429</td>\n",
       "      <td>16.571429</td>\n",
       "      <td>9.200000</td>\n",
       "      <td>100.202857</td>\n",
       "    </tr>\n",
       "    <tr>\n",
       "      <td>Freezing Drizzle,Fog</td>\n",
       "      <td>-2.533333</td>\n",
       "      <td>-4.183333</td>\n",
       "      <td>88.500000</td>\n",
       "      <td>17.000000</td>\n",
       "      <td>5.266667</td>\n",
       "      <td>100.441667</td>\n",
       "    </tr>\n",
       "    <tr>\n",
       "      <td>Freezing Drizzle,Haze</td>\n",
       "      <td>-5.433333</td>\n",
       "      <td>-8.000000</td>\n",
       "      <td>82.000000</td>\n",
       "      <td>10.333333</td>\n",
       "      <td>2.666667</td>\n",
       "      <td>100.316667</td>\n",
       "    </tr>\n",
       "    <tr>\n",
       "      <td>Freezing Drizzle,Snow</td>\n",
       "      <td>-5.109091</td>\n",
       "      <td>-7.072727</td>\n",
       "      <td>86.090909</td>\n",
       "      <td>16.272727</td>\n",
       "      <td>5.872727</td>\n",
       "      <td>100.520909</td>\n",
       "    </tr>\n",
       "    <tr>\n",
       "      <td>Freezing Fog</td>\n",
       "      <td>-7.575000</td>\n",
       "      <td>-9.250000</td>\n",
       "      <td>87.750000</td>\n",
       "      <td>4.750000</td>\n",
       "      <td>0.650000</td>\n",
       "      <td>102.320000</td>\n",
       "    </tr>\n",
       "    <tr>\n",
       "      <td>Freezing Rain</td>\n",
       "      <td>-3.885714</td>\n",
       "      <td>-6.078571</td>\n",
       "      <td>84.642857</td>\n",
       "      <td>19.214286</td>\n",
       "      <td>8.242857</td>\n",
       "      <td>99.647143</td>\n",
       "    </tr>\n",
       "    <tr>\n",
       "      <td>Freezing Rain,Fog</td>\n",
       "      <td>-2.225000</td>\n",
       "      <td>-3.750000</td>\n",
       "      <td>89.500000</td>\n",
       "      <td>15.500000</td>\n",
       "      <td>7.550000</td>\n",
       "      <td>99.945000</td>\n",
       "    </tr>\n",
       "    <tr>\n",
       "      <td>Freezing Rain,Haze</td>\n",
       "      <td>-4.900000</td>\n",
       "      <td>-7.450000</td>\n",
       "      <td>82.500000</td>\n",
       "      <td>7.500000</td>\n",
       "      <td>2.400000</td>\n",
       "      <td>100.375000</td>\n",
       "    </tr>\n",
       "    <tr>\n",
       "      <td>Freezing Rain,Ice Pellets,Fog</td>\n",
       "      <td>-2.600000</td>\n",
       "      <td>-3.700000</td>\n",
       "      <td>92.000000</td>\n",
       "      <td>28.000000</td>\n",
       "      <td>8.000000</td>\n",
       "      <td>100.950000</td>\n",
       "    </tr>\n",
       "    <tr>\n",
       "      <td>Freezing Rain,Snow Grains</td>\n",
       "      <td>-5.000000</td>\n",
       "      <td>-7.300000</td>\n",
       "      <td>84.000000</td>\n",
       "      <td>32.000000</td>\n",
       "      <td>4.800000</td>\n",
       "      <td>98.560000</td>\n",
       "    </tr>\n",
       "    <tr>\n",
       "      <td>Haze</td>\n",
       "      <td>-0.200000</td>\n",
       "      <td>-2.975000</td>\n",
       "      <td>81.625000</td>\n",
       "      <td>10.437500</td>\n",
       "      <td>7.831250</td>\n",
       "      <td>101.482500</td>\n",
       "    </tr>\n",
       "    <tr>\n",
       "      <td>Mainly Clear</td>\n",
       "      <td>12.558927</td>\n",
       "      <td>4.581671</td>\n",
       "      <td>60.667142</td>\n",
       "      <td>14.144824</td>\n",
       "      <td>34.264862</td>\n",
       "      <td>101.248832</td>\n",
       "    </tr>\n",
       "    <tr>\n",
       "      <td>Moderate Rain,Fog</td>\n",
       "      <td>1.700000</td>\n",
       "      <td>0.800000</td>\n",
       "      <td>94.000000</td>\n",
       "      <td>17.000000</td>\n",
       "      <td>6.400000</td>\n",
       "      <td>99.980000</td>\n",
       "    </tr>\n",
       "    <tr>\n",
       "      <td>Moderate Snow</td>\n",
       "      <td>-5.525000</td>\n",
       "      <td>-7.250000</td>\n",
       "      <td>87.750000</td>\n",
       "      <td>33.750000</td>\n",
       "      <td>0.750000</td>\n",
       "      <td>100.275000</td>\n",
       "    </tr>\n",
       "    <tr>\n",
       "      <td>Moderate Snow,Blowing Snow</td>\n",
       "      <td>-5.450000</td>\n",
       "      <td>-6.500000</td>\n",
       "      <td>92.500000</td>\n",
       "      <td>40.000000</td>\n",
       "      <td>0.600000</td>\n",
       "      <td>100.570000</td>\n",
       "    </tr>\n",
       "    <tr>\n",
       "      <td>Mostly Cloudy</td>\n",
       "      <td>10.574287</td>\n",
       "      <td>3.131174</td>\n",
       "      <td>62.102465</td>\n",
       "      <td>15.813920</td>\n",
       "      <td>31.253842</td>\n",
       "      <td>101.025288</td>\n",
       "    </tr>\n",
       "    <tr>\n",
       "      <td>Rain</td>\n",
       "      <td>9.786275</td>\n",
       "      <td>7.042810</td>\n",
       "      <td>83.624183</td>\n",
       "      <td>19.254902</td>\n",
       "      <td>18.856536</td>\n",
       "      <td>100.233333</td>\n",
       "    </tr>\n",
       "    <tr>\n",
       "      <td>Rain Showers</td>\n",
       "      <td>13.722340</td>\n",
       "      <td>9.187766</td>\n",
       "      <td>75.159574</td>\n",
       "      <td>17.132979</td>\n",
       "      <td>22.816489</td>\n",
       "      <td>100.404043</td>\n",
       "    </tr>\n",
       "    <tr>\n",
       "      <td>Rain Showers,Fog</td>\n",
       "      <td>12.800000</td>\n",
       "      <td>12.100000</td>\n",
       "      <td>96.000000</td>\n",
       "      <td>13.000000</td>\n",
       "      <td>6.400000</td>\n",
       "      <td>99.830000</td>\n",
       "    </tr>\n",
       "    <tr>\n",
       "      <td>Rain Showers,Snow Showers</td>\n",
       "      <td>2.150000</td>\n",
       "      <td>-1.500000</td>\n",
       "      <td>76.500000</td>\n",
       "      <td>22.500000</td>\n",
       "      <td>21.700000</td>\n",
       "      <td>101.100000</td>\n",
       "    </tr>\n",
       "    <tr>\n",
       "      <td>Rain,Fog</td>\n",
       "      <td>8.273276</td>\n",
       "      <td>7.219828</td>\n",
       "      <td>93.189655</td>\n",
       "      <td>14.793103</td>\n",
       "      <td>6.873276</td>\n",
       "      <td>100.500862</td>\n",
       "    </tr>\n",
       "    <tr>\n",
       "      <td>Rain,Haze</td>\n",
       "      <td>4.633333</td>\n",
       "      <td>2.066667</td>\n",
       "      <td>83.333333</td>\n",
       "      <td>11.666667</td>\n",
       "      <td>6.700000</td>\n",
       "      <td>100.540000</td>\n",
       "    </tr>\n",
       "    <tr>\n",
       "      <td>Rain,Ice Pellets</td>\n",
       "      <td>0.600000</td>\n",
       "      <td>-0.600000</td>\n",
       "      <td>92.000000</td>\n",
       "      <td>24.000000</td>\n",
       "      <td>9.700000</td>\n",
       "      <td>100.120000</td>\n",
       "    </tr>\n",
       "    <tr>\n",
       "      <td>Rain,Snow</td>\n",
       "      <td>1.055556</td>\n",
       "      <td>-0.566667</td>\n",
       "      <td>89.000000</td>\n",
       "      <td>28.388889</td>\n",
       "      <td>11.672222</td>\n",
       "      <td>99.951111</td>\n",
       "    </tr>\n",
       "    <tr>\n",
       "      <td>Rain,Snow Grains</td>\n",
       "      <td>1.900000</td>\n",
       "      <td>-2.100000</td>\n",
       "      <td>75.000000</td>\n",
       "      <td>26.000000</td>\n",
       "      <td>25.000000</td>\n",
       "      <td>100.600000</td>\n",
       "    </tr>\n",
       "    <tr>\n",
       "      <td>Rain,Snow,Fog</td>\n",
       "      <td>0.800000</td>\n",
       "      <td>0.300000</td>\n",
       "      <td>96.000000</td>\n",
       "      <td>9.000000</td>\n",
       "      <td>6.400000</td>\n",
       "      <td>100.730000</td>\n",
       "    </tr>\n",
       "    <tr>\n",
       "      <td>Rain,Snow,Ice Pellets</td>\n",
       "      <td>1.100000</td>\n",
       "      <td>-0.175000</td>\n",
       "      <td>91.500000</td>\n",
       "      <td>23.250000</td>\n",
       "      <td>6.000000</td>\n",
       "      <td>100.105000</td>\n",
       "    </tr>\n",
       "    <tr>\n",
       "      <td>Snow</td>\n",
       "      <td>-4.524103</td>\n",
       "      <td>-7.623333</td>\n",
       "      <td>79.307692</td>\n",
       "      <td>20.038462</td>\n",
       "      <td>11.171795</td>\n",
       "      <td>100.536103</td>\n",
       "    </tr>\n",
       "    <tr>\n",
       "      <td>Snow Pellets</td>\n",
       "      <td>0.700000</td>\n",
       "      <td>-6.400000</td>\n",
       "      <td>59.000000</td>\n",
       "      <td>35.000000</td>\n",
       "      <td>2.400000</td>\n",
       "      <td>99.700000</td>\n",
       "    </tr>\n",
       "    <tr>\n",
       "      <td>Snow Showers</td>\n",
       "      <td>-3.506667</td>\n",
       "      <td>-7.866667</td>\n",
       "      <td>72.350000</td>\n",
       "      <td>19.233333</td>\n",
       "      <td>20.158333</td>\n",
       "      <td>100.963500</td>\n",
       "    </tr>\n",
       "    <tr>\n",
       "      <td>Snow Showers,Fog</td>\n",
       "      <td>-10.675000</td>\n",
       "      <td>-11.900000</td>\n",
       "      <td>90.750000</td>\n",
       "      <td>13.750000</td>\n",
       "      <td>7.025000</td>\n",
       "      <td>101.292500</td>\n",
       "    </tr>\n",
       "    <tr>\n",
       "      <td>Snow,Blowing Snow</td>\n",
       "      <td>-5.410526</td>\n",
       "      <td>-7.621053</td>\n",
       "      <td>84.473684</td>\n",
       "      <td>34.842105</td>\n",
       "      <td>4.105263</td>\n",
       "      <td>99.704737</td>\n",
       "    </tr>\n",
       "    <tr>\n",
       "      <td>Snow,Fog</td>\n",
       "      <td>-5.075676</td>\n",
       "      <td>-6.364865</td>\n",
       "      <td>90.675676</td>\n",
       "      <td>17.324324</td>\n",
       "      <td>4.537838</td>\n",
       "      <td>100.688649</td>\n",
       "    </tr>\n",
       "    <tr>\n",
       "      <td>Snow,Haze</td>\n",
       "      <td>-4.020000</td>\n",
       "      <td>-6.860000</td>\n",
       "      <td>80.600000</td>\n",
       "      <td>5.000000</td>\n",
       "      <td>4.640000</td>\n",
       "      <td>100.782000</td>\n",
       "    </tr>\n",
       "    <tr>\n",
       "      <td>Snow,Ice Pellets</td>\n",
       "      <td>-1.883333</td>\n",
       "      <td>-3.666667</td>\n",
       "      <td>87.666667</td>\n",
       "      <td>23.833333</td>\n",
       "      <td>7.416667</td>\n",
       "      <td>100.548333</td>\n",
       "    </tr>\n",
       "    <tr>\n",
       "      <td>Thunderstorms</td>\n",
       "      <td>24.150000</td>\n",
       "      <td>19.750000</td>\n",
       "      <td>77.000000</td>\n",
       "      <td>7.500000</td>\n",
       "      <td>24.550000</td>\n",
       "      <td>100.230000</td>\n",
       "    </tr>\n",
       "    <tr>\n",
       "      <td>Thunderstorms,Heavy Rain Showers</td>\n",
       "      <td>10.900000</td>\n",
       "      <td>9.000000</td>\n",
       "      <td>88.000000</td>\n",
       "      <td>9.000000</td>\n",
       "      <td>2.400000</td>\n",
       "      <td>100.260000</td>\n",
       "    </tr>\n",
       "    <tr>\n",
       "      <td>Thunderstorms,Moderate Rain Showers,Fog</td>\n",
       "      <td>19.600000</td>\n",
       "      <td>18.500000</td>\n",
       "      <td>93.000000</td>\n",
       "      <td>15.000000</td>\n",
       "      <td>3.200000</td>\n",
       "      <td>100.010000</td>\n",
       "    </tr>\n",
       "    <tr>\n",
       "      <td>Thunderstorms,Rain</td>\n",
       "      <td>20.433333</td>\n",
       "      <td>18.533333</td>\n",
       "      <td>89.000000</td>\n",
       "      <td>15.666667</td>\n",
       "      <td>19.833333</td>\n",
       "      <td>100.420000</td>\n",
       "    </tr>\n",
       "    <tr>\n",
       "      <td>Thunderstorms,Rain Showers</td>\n",
       "      <td>20.037500</td>\n",
       "      <td>17.618750</td>\n",
       "      <td>86.375000</td>\n",
       "      <td>18.312500</td>\n",
       "      <td>15.893750</td>\n",
       "      <td>100.233750</td>\n",
       "    </tr>\n",
       "    <tr>\n",
       "      <td>Thunderstorms,Rain Showers,Fog</td>\n",
       "      <td>21.600000</td>\n",
       "      <td>18.700000</td>\n",
       "      <td>84.000000</td>\n",
       "      <td>19.666667</td>\n",
       "      <td>9.700000</td>\n",
       "      <td>100.063333</td>\n",
       "    </tr>\n",
       "    <tr>\n",
       "      <td>Thunderstorms,Rain,Fog</td>\n",
       "      <td>20.600000</td>\n",
       "      <td>18.600000</td>\n",
       "      <td>88.000000</td>\n",
       "      <td>19.000000</td>\n",
       "      <td>4.800000</td>\n",
       "      <td>100.080000</td>\n",
       "    </tr>\n",
       "  </tbody>\n",
       "</table>\n",
       "</div>"
      ],
      "text/plain": [
       "                                            Temp_C  Dew Point Temp_C  \\\n",
       "Weather                                                                \n",
       "Clear                                     6.825716          0.089367   \n",
       "Cloudy                                    7.970544          2.375810   \n",
       "Drizzle                                   7.353659          5.504878   \n",
       "Drizzle,Fog                               8.067500          7.033750   \n",
       "Drizzle,Ice Pellets,Fog                   0.400000         -0.700000   \n",
       "Drizzle,Snow                              1.050000          0.150000   \n",
       "Drizzle,Snow,Fog                          0.693333          0.120000   \n",
       "Fog                                       4.303333          3.159333   \n",
       "Freezing Drizzle                         -5.657143         -8.000000   \n",
       "Freezing Drizzle,Fog                     -2.533333         -4.183333   \n",
       "Freezing Drizzle,Haze                    -5.433333         -8.000000   \n",
       "Freezing Drizzle,Snow                    -5.109091         -7.072727   \n",
       "Freezing Fog                             -7.575000         -9.250000   \n",
       "Freezing Rain                            -3.885714         -6.078571   \n",
       "Freezing Rain,Fog                        -2.225000         -3.750000   \n",
       "Freezing Rain,Haze                       -4.900000         -7.450000   \n",
       "Freezing Rain,Ice Pellets,Fog            -2.600000         -3.700000   \n",
       "Freezing Rain,Snow Grains                -5.000000         -7.300000   \n",
       "Haze                                     -0.200000         -2.975000   \n",
       "Mainly Clear                             12.558927          4.581671   \n",
       "Moderate Rain,Fog                         1.700000          0.800000   \n",
       "Moderate Snow                            -5.525000         -7.250000   \n",
       "Moderate Snow,Blowing Snow               -5.450000         -6.500000   \n",
       "Mostly Cloudy                            10.574287          3.131174   \n",
       "Rain                                      9.786275          7.042810   \n",
       "Rain Showers                             13.722340          9.187766   \n",
       "Rain Showers,Fog                         12.800000         12.100000   \n",
       "Rain Showers,Snow Showers                 2.150000         -1.500000   \n",
       "Rain,Fog                                  8.273276          7.219828   \n",
       "Rain,Haze                                 4.633333          2.066667   \n",
       "Rain,Ice Pellets                          0.600000         -0.600000   \n",
       "Rain,Snow                                 1.055556         -0.566667   \n",
       "Rain,Snow Grains                          1.900000         -2.100000   \n",
       "Rain,Snow,Fog                             0.800000          0.300000   \n",
       "Rain,Snow,Ice Pellets                     1.100000         -0.175000   \n",
       "Snow                                     -4.524103         -7.623333   \n",
       "Snow Pellets                              0.700000         -6.400000   \n",
       "Snow Showers                             -3.506667         -7.866667   \n",
       "Snow Showers,Fog                        -10.675000        -11.900000   \n",
       "Snow,Blowing Snow                        -5.410526         -7.621053   \n",
       "Snow,Fog                                 -5.075676         -6.364865   \n",
       "Snow,Haze                                -4.020000         -6.860000   \n",
       "Snow,Ice Pellets                         -1.883333         -3.666667   \n",
       "Thunderstorms                            24.150000         19.750000   \n",
       "Thunderstorms,Heavy Rain Showers         10.900000          9.000000   \n",
       "Thunderstorms,Moderate Rain Showers,Fog  19.600000         18.500000   \n",
       "Thunderstorms,Rain                       20.433333         18.533333   \n",
       "Thunderstorms,Rain Showers               20.037500         17.618750   \n",
       "Thunderstorms,Rain Showers,Fog           21.600000         18.700000   \n",
       "Thunderstorms,Rain,Fog                   20.600000         18.600000   \n",
       "\n",
       "                                         Rel Hum_%  Wind Speed_km/h  \\\n",
       "Weather                                                               \n",
       "Clear                                    64.497738        10.557315   \n",
       "Cloudy                                   69.592593        16.127315   \n",
       "Drizzle                                  88.243902        16.097561   \n",
       "Drizzle,Fog                              93.275000        11.862500   \n",
       "Drizzle,Ice Pellets,Fog                  92.000000        20.000000   \n",
       "Drizzle,Snow                             93.500000        14.000000   \n",
       "Drizzle,Snow,Fog                         95.866667        15.533333   \n",
       "Fog                                      92.286667         7.946667   \n",
       "Freezing Drizzle                         83.571429        16.571429   \n",
       "Freezing Drizzle,Fog                     88.500000        17.000000   \n",
       "Freezing Drizzle,Haze                    82.000000        10.333333   \n",
       "Freezing Drizzle,Snow                    86.090909        16.272727   \n",
       "Freezing Fog                             87.750000         4.750000   \n",
       "Freezing Rain                            84.642857        19.214286   \n",
       "Freezing Rain,Fog                        89.500000        15.500000   \n",
       "Freezing Rain,Haze                       82.500000         7.500000   \n",
       "Freezing Rain,Ice Pellets,Fog            92.000000        28.000000   \n",
       "Freezing Rain,Snow Grains                84.000000        32.000000   \n",
       "Haze                                     81.625000        10.437500   \n",
       "Mainly Clear                             60.667142        14.144824   \n",
       "Moderate Rain,Fog                        94.000000        17.000000   \n",
       "Moderate Snow                            87.750000        33.750000   \n",
       "Moderate Snow,Blowing Snow               92.500000        40.000000   \n",
       "Mostly Cloudy                            62.102465        15.813920   \n",
       "Rain                                     83.624183        19.254902   \n",
       "Rain Showers                             75.159574        17.132979   \n",
       "Rain Showers,Fog                         96.000000        13.000000   \n",
       "Rain Showers,Snow Showers                76.500000        22.500000   \n",
       "Rain,Fog                                 93.189655        14.793103   \n",
       "Rain,Haze                                83.333333        11.666667   \n",
       "Rain,Ice Pellets                         92.000000        24.000000   \n",
       "Rain,Snow                                89.000000        28.388889   \n",
       "Rain,Snow Grains                         75.000000        26.000000   \n",
       "Rain,Snow,Fog                            96.000000         9.000000   \n",
       "Rain,Snow,Ice Pellets                    91.500000        23.250000   \n",
       "Snow                                     79.307692        20.038462   \n",
       "Snow Pellets                             59.000000        35.000000   \n",
       "Snow Showers                             72.350000        19.233333   \n",
       "Snow Showers,Fog                         90.750000        13.750000   \n",
       "Snow,Blowing Snow                        84.473684        34.842105   \n",
       "Snow,Fog                                 90.675676        17.324324   \n",
       "Snow,Haze                                80.600000         5.000000   \n",
       "Snow,Ice Pellets                         87.666667        23.833333   \n",
       "Thunderstorms                            77.000000         7.500000   \n",
       "Thunderstorms,Heavy Rain Showers         88.000000         9.000000   \n",
       "Thunderstorms,Moderate Rain Showers,Fog  93.000000        15.000000   \n",
       "Thunderstorms,Rain                       89.000000        15.666667   \n",
       "Thunderstorms,Rain Showers               86.375000        18.312500   \n",
       "Thunderstorms,Rain Showers,Fog           84.000000        19.666667   \n",
       "Thunderstorms,Rain,Fog                   88.000000        19.000000   \n",
       "\n",
       "                                         Visibility_km   Press_kPa  \n",
       "Weather                                                             \n",
       "Clear                                        30.153243  101.587443  \n",
       "Cloudy                                       26.625752  100.911441  \n",
       "Drizzle                                      17.931707  100.435366  \n",
       "Drizzle,Fog                                   5.257500  100.786625  \n",
       "Drizzle,Ice Pellets,Fog                       4.000000  100.790000  \n",
       "Drizzle,Snow                                 10.500000  100.890000  \n",
       "Drizzle,Snow,Fog                              5.513333   99.281333  \n",
       "Fog                                           6.248000  101.184067  \n",
       "Freezing Drizzle                              9.200000  100.202857  \n",
       "Freezing Drizzle,Fog                          5.266667  100.441667  \n",
       "Freezing Drizzle,Haze                         2.666667  100.316667  \n",
       "Freezing Drizzle,Snow                         5.872727  100.520909  \n",
       "Freezing Fog                                  0.650000  102.320000  \n",
       "Freezing Rain                                 8.242857   99.647143  \n",
       "Freezing Rain,Fog                             7.550000   99.945000  \n",
       "Freezing Rain,Haze                            2.400000  100.375000  \n",
       "Freezing Rain,Ice Pellets,Fog                 8.000000  100.950000  \n",
       "Freezing Rain,Snow Grains                     4.800000   98.560000  \n",
       "Haze                                          7.831250  101.482500  \n",
       "Mainly Clear                                 34.264862  101.248832  \n",
       "Moderate Rain,Fog                             6.400000   99.980000  \n",
       "Moderate Snow                                 0.750000  100.275000  \n",
       "Moderate Snow,Blowing Snow                    0.600000  100.570000  \n",
       "Mostly Cloudy                                31.253842  101.025288  \n",
       "Rain                                         18.856536  100.233333  \n",
       "Rain Showers                                 22.816489  100.404043  \n",
       "Rain Showers,Fog                              6.400000   99.830000  \n",
       "Rain Showers,Snow Showers                    21.700000  101.100000  \n",
       "Rain,Fog                                      6.873276  100.500862  \n",
       "Rain,Haze                                     6.700000  100.540000  \n",
       "Rain,Ice Pellets                              9.700000  100.120000  \n",
       "Rain,Snow                                    11.672222   99.951111  \n",
       "Rain,Snow Grains                             25.000000  100.600000  \n",
       "Rain,Snow,Fog                                 6.400000  100.730000  \n",
       "Rain,Snow,Ice Pellets                         6.000000  100.105000  \n",
       "Snow                                         11.171795  100.536103  \n",
       "Snow Pellets                                  2.400000   99.700000  \n",
       "Snow Showers                                 20.158333  100.963500  \n",
       "Snow Showers,Fog                              7.025000  101.292500  \n",
       "Snow,Blowing Snow                             4.105263   99.704737  \n",
       "Snow,Fog                                      4.537838  100.688649  \n",
       "Snow,Haze                                     4.640000  100.782000  \n",
       "Snow,Ice Pellets                              7.416667  100.548333  \n",
       "Thunderstorms                                24.550000  100.230000  \n",
       "Thunderstorms,Heavy Rain Showers              2.400000  100.260000  \n",
       "Thunderstorms,Moderate Rain Showers,Fog       3.200000  100.010000  \n",
       "Thunderstorms,Rain                           19.833333  100.420000  \n",
       "Thunderstorms,Rain Showers                   15.893750  100.233750  \n",
       "Thunderstorms,Rain Showers,Fog                9.700000  100.063333  \n",
       "Thunderstorms,Rain,Fog                        4.800000  100.080000  "
      ]
     },
     "execution_count": 77,
     "metadata": {},
     "output_type": "execute_result"
    }
   ],
   "source": [
    "# mean value of each column against each 'weather condition'\n",
    "df.groupby('Weather').mean()"
   ]
  },
  {
   "cell_type": "code",
   "execution_count": 83,
   "metadata": {},
   "outputs": [
    {
     "data": {
      "text/plain": [
       "533"
      ]
     },
     "execution_count": 83,
     "metadata": {},
     "output_type": "execute_result"
    }
   ],
   "source": [
    "# all instances where 'weather is snow' or 'visibility is 9.7'\n",
    "df[(df['Weather'] == 'Snow') | (df['Visibility_km'] == 9.7)]['Weather'].value_counts().sum()"
   ]
  },
  {
   "cell_type": "code",
   "execution_count": 82,
   "metadata": {},
   "outputs": [
    {
     "data": {
      "text/plain": [
       "149"
      ]
     },
     "execution_count": 82,
     "metadata": {},
     "output_type": "execute_result"
    }
   ],
   "source": [
    "#all instances where 'weather is fog' and 'relative humidity is more than 80'\n",
    "df[(df['Weather'] == 'Fog') & (df['Rel Hum_%'] > 80)]['Weather'].value_counts().sum()"
   ]
  },
  {
   "cell_type": "code",
   "execution_count": null,
   "metadata": {},
   "outputs": [],
   "source": []
  }
 ],
 "metadata": {
  "kernelspec": {
   "display_name": "Python 3",
   "language": "python",
   "name": "python3"
  },
  "language_info": {
   "codemirror_mode": {
    "name": "ipython",
    "version": 3
   },
   "file_extension": ".py",
   "mimetype": "text/x-python",
   "name": "python",
   "nbconvert_exporter": "python",
   "pygments_lexer": "ipython3",
   "version": "3.7.4"
  }
 },
 "nbformat": 4,
 "nbformat_minor": 2
}
